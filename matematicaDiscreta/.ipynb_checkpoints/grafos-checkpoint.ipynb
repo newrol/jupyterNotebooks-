{
 "cells": [
  {
   "cell_type": "markdown",
   "metadata": {},
   "source": [
    "# Teoría de grafos"
   ]
  },
  {
   "cell_type": "markdown",
   "metadata": {},
   "source": [
    "A lo largo de este documento se recorrerá .... introducción"
   ]
  },
  {
   "cell_type": "markdown",
   "metadata": {},
   "source": [
    "Menú"
   ]
  },
  {
   "cell_type": "markdown",
   "metadata": {},
   "source": [
    "## Representación matricial de grafos"
   ]
  },
  {
   "cell_type": "markdown",
   "metadata": {},
   "source": [
    "Existen diversas formas de representar los grafos, cuando tratamos de reprensetar de forma algoritmica lamás adecuada es la llamada **matriz de adyacencia**."
   ]
  },
  {
   "cell_type": "markdown",
   "metadata": {},
   "source": [
    "** definicion:** sea $\\ G = (V, E) $  con $\\ |V| = n $  y además $\\ V = {v_1, v_2, v_3,...v_n} $ la **matriz de adyacencia** de $\\ G $ respecto a los vértices anteriores, es una *matriz booleana* $\\ n * n $, A, cuyo elemento $\\ _i $, $\\ _j $ vale $\\ 1 $ cuando $\\ v_i $ es adyacente a $\\ v_j $ y $\\ 0 $ cuando no lo es. Es decir, si $\\ A = [a_i $ $\\ _j] $ es la matriz de adyacencia, entonces:\n",
    "\n",
    "\\begin{equation*}\n",
    " a_i,_j = \\begin{cases}\n",
    "    1       & \\quad \\text{si } {v_i, v_j} \\text{ es un lado de G}\\\\\n",
    "    0  & \\quad \\text{en otro caso}\\\\\n",
    "  \\end{cases}\n",
    "\\end{equation*}\n"
   ]
  },
  {
   "cell_type": "markdown",
   "metadata": {},
   "source": [
    "[[[[ Explicación sencilla de lo que es la matri de adyacencia ]]]]"
   ]
  },
  {
   "cell_type": "code",
   "execution_count": null,
   "metadata": {
    "collapsed": true
   },
   "outputs": [],
   "source": []
  }
 ],
 "metadata": {
  "kernelspec": {
   "display_name": "Python 2",
   "language": "python",
   "name": "python2"
  },
  "language_info": {
   "codemirror_mode": {
    "name": "ipython",
    "version": 2
   },
   "file_extension": ".py",
   "mimetype": "text/x-python",
   "name": "python",
   "nbconvert_exporter": "python",
   "pygments_lexer": "ipython2",
   "version": "2.7.13"
  }
 },
 "nbformat": 4,
 "nbformat_minor": 2
}
